{
 "cells": [
  {
   "cell_type": "markdown",
   "metadata": {},
   "source": [
    "# Sparkify Project Workspace\n",
    "This workspace contains a tiny subset (128MB) of the full dataset available (12GB). Feel free to use this workspace to build your project, or to explore a smaller subset with Spark before deploying your cluster on the cloud. Instructions for setting up your Spark cluster is included in the last lesson of the Extracurricular Spark Course content.\n",
    "\n",
    "You can follow the steps below to guide your data analysis and model building portion of this project."
   ]
  },
  {
   "cell_type": "code",
   "execution_count": 2,
   "metadata": {},
   "outputs": [],
   "source": [
    "from pyspark.sql import SparkSession\n",
    "from pyspark.sql.types import IntegerType\n",
    "from pyspark.sql.functions import udf,  sum,countDistinct, when, col,count\n",
    "from pyspark.ml import Pipeline\n",
    "from pyspark.ml.evaluation import MulticlassClassificationEvaluator\n",
    "from pyspark.ml.tuning import CrossValidator, ParamGridBuilder\n",
    "from pyspark.ml.classification import LogisticRegression\n",
    "from pyspark.ml.regression import LinearRegression\n",
    "from pyspark.ml.feature import  MinMaxScaler, StringIndexer, OneHotEncoder, VectorAssembler\n",
    "from pyspark.ml.classification import  RandomForestClassifier,LogisticRegression, GBTClassifier\n",
    "from sklearn.metrics import confusion_matrix\n",
    "\n",
    "import numpy as np\n",
    "import matplotlib.pyplot as plt\n",
    "import pandas as pd\n",
    "import warnings\n",
    "\n",
    "warnings.filterwarnings('ignore')\n",
    "get_ipython().run_line_magic('matplotlib', 'inline')"
   ]
  },
  {
   "cell_type": "code",
   "execution_count": 3,
   "metadata": {},
   "outputs": [],
   "source": [
    "#Spark session\n",
    "spark_session = (SparkSession.builder\n",
    "                 .master(\"local\")\n",
    "                 .appName(\"Creating Features\")\n",
    "                 .getOrCreate())"
   ]
  },
  {
   "cell_type": "markdown",
   "metadata": {},
   "source": [
    "# Load and Clean Dataset\n",
    "In this workspace, the mini-dataset file is `mini_sparkify_event_data.json`. Load and clean the dataset, checking for invalid or missing data - for example, records without userids or sessionids. "
   ]
  },
  {
   "cell_type": "code",
   "execution_count": 4,
   "metadata": {},
   "outputs": [
    {
     "data": {
      "text/plain": [
       "DataFrame[artist: string, auth: string, firstName: string, gender: string, itemInSession: bigint, lastName: string, length: double, level: string, location: string, method: string, page: string, registration: bigint, sessionId: bigint, song: string, status: bigint, ts: bigint, userAgent: string, userId: string]"
      ]
     },
     "execution_count": 4,
     "metadata": {},
     "output_type": "execute_result"
    }
   ],
   "source": [
    "event_data = spark_session.read.json('mini_sparkify_event_data.json')\n",
    "event_data.persist()"
   ]
  },
  {
   "cell_type": "markdown",
   "metadata": {},
   "source": [
    "# Exploratory Data Analysis\n",
    "When you're working with the full dataset, perform EDA by loading a small subset of the data and doing basic manipulations within Spark. In this workspace, you are already provided a small subset of data you can explore.\n",
    "\n",
    "### Define Churn\n",
    "\n",
    "Once you've done some preliminary analysis, create a column `Churn` to use as the label for your model. I suggest using the `Cancellation Confirmation` events to define your churn, which happen for both paid and free users. As a bonus task, you can also look into the `Downgrade` events.\n",
    "\n",
    "### Explore Data\n",
    "Once you've defined churn, perform some exploratory data analysis to observe the behavior for users who stayed vs users who churned. You can start by exploring aggregates on these two groups of users, observing how much of a specific action they experienced per a certain time unit or number of songs played."
   ]
  },
  {
   "cell_type": "code",
   "execution_count": 5,
   "metadata": {},
   "outputs": [
    {
     "name": "stdout",
     "output_type": "stream",
     "text": [
      "root\n",
      " |-- artist: string (nullable = true)\n",
      " |-- auth: string (nullable = true)\n",
      " |-- firstName: string (nullable = true)\n",
      " |-- gender: string (nullable = true)\n",
      " |-- itemInSession: long (nullable = true)\n",
      " |-- lastName: string (nullable = true)\n",
      " |-- length: double (nullable = true)\n",
      " |-- level: string (nullable = true)\n",
      " |-- location: string (nullable = true)\n",
      " |-- method: string (nullable = true)\n",
      " |-- page: string (nullable = true)\n",
      " |-- registration: long (nullable = true)\n",
      " |-- sessionId: long (nullable = true)\n",
      " |-- song: string (nullable = true)\n",
      " |-- status: long (nullable = true)\n",
      " |-- ts: long (nullable = true)\n",
      " |-- userAgent: string (nullable = true)\n",
      " |-- userId: string (nullable = true)\n",
      "\n"
     ]
    }
   ],
   "source": [
    "event_data.printSchema()"
   ]
  },
  {
   "cell_type": "markdown",
   "metadata": {},
   "source": [
    "# Feature Engineering\n",
    "Once you've familiarized yourself with the data, build out the features you find promising to train your model on. To work with the full dataset, you can follow the following steps.\n",
    "- Write a script to extract the necessary features from the smaller subset of data\n",
    "- Ensure that your script is scalable, using the best practices discussed in Lesson 3\n",
    "- Try your script on the full data set, debugging your script if necessary\n",
    "\n",
    "If you are working in the classroom workspace, you can just extract features based on the small subset of data contained here. Be sure to transfer over this work to the larger dataset when you work on your Spark cluster."
   ]
  },
  {
   "cell_type": "code",
   "execution_count": 6,
   "metadata": {},
   "outputs": [],
   "source": [
    "event_data = event_data.drop('firstName', 'lastName', 'auth', 'gender', 'artist','song',\n",
    "                       'method','status', 'registration', 'location','itemInSession')\n",
    "event_pivot_element = event_data.groupby([\"userId\"]).pivot(\"page\").count().fillna(0)\n",
    "event_pivot_element = event_pivot_element.drop( 'Cancel', 'About',  'Submit Registration', 'Login', 'Save Settings','Register')\n",
    "# filter log to have next song\n",
    "events_songs = event_data.filter(event_data.page == 'NextSong')\n",
    "# Total length of songs played\n",
    "total_song_length = events_songs.groupby(events_songs.userId).agg(sum('length'))\n",
    "# events_pivot join\n",
    "event_pivot_element = (event_pivot_element.join(total_song_length, on ='userId', how ='left')\n",
    "                       .withColumnRenamed(\"Cancellation Confirmation\", \"Churn\")\n",
    "                       .withColumnRenamed(\"sum(length)\", \"total_length\"))\n",
    "conversion_factor = 24 * 60 * 60 * 1000 # conversion factor to days\n",
    "# Find min/max time stamp of each user\n",
    "timestamp_minimum = event_data.select([\"userId\", \"ts\"]).groupby(\"userId\").min(\"ts\")\n",
    "timestamp_maximum = event_data.select([\"userId\", \"ts\"]).groupby(\"userId\").max(\"ts\")\n",
    "# days_active for each user\n",
    "days_user_active = timestamp_minimum.join(timestamp_maximum, on=\"userId\")\n",
    "days_user_active = (days_user_active.withColumn(\"days_active\",\n",
    "                                                (col(\"max(ts)\")-col(\"min(ts)\")) / conversion_factor))\n",
    "days_user_active = days_user_active.select([\"userId\", \"days_active\"])\n",
    "# events join pivot\n",
    "event_pivot_element = event_pivot_element.join(days_user_active, on ='userId', how ='left')\n",
    "# min/max timestamp for each user as paid one\n",
    "timestamp_min_paid = event_data.filter(event_data.level == 'paid').groupby(\"userId\").min(\"ts\")\n",
    "timestamp_max_paid = event_data.filter(event_data.level == 'paid').groupby(\"userId\").max(\"ts\")\n",
    "# Finding days_paid user of each user\n",
    "\n",
    "days_paid = timestamp_min_paid.join(timestamp_max_paid, on=\"userId\")\n",
    "days_paid = (days_paid.withColumn(\"days_paid\",\n",
    "                                  (col(\"max(ts)\")-col(\"min(ts)\")) / conversion_factor))\n",
    "days_paid = days_paid.select([\"userId\", \"days_paid\"])\n",
    "# joining events pivot\n",
    "event_pivot_element = event_pivot_element.join(days_paid, on ='userId', how='left')\n",
    "# min/max time stamp for each user as paid one\n",
    "timestamp_min_free = event_data.filter(event_data.level == 'free').groupby(\"userId\").min(\"ts\")\n",
    "timestamp_max_free = event_data.filter(event_data.level == 'free').groupby(\"userId\").max(\"ts\")\n",
    "# Finding days as paid user of each user\n",
    "days_free_usage = timestamp_min_free.join(timestamp_max_free, on=\"userId\")\n",
    "days_free_usage = (days_free_usage.withColumn(\"days_free\",\n",
    "                                              (col(\"max(ts)\")-col(\"min(ts)\")) / conversion_factor))\n",
    "days_free_usage = days_free_usage.select([\"userId\", \"days_free\"])\n",
    "# joining events pivot\n",
    "event_pivot_element = event_pivot_element.join(days_free_usage, on ='userId', how='left')\n",
    "# finding user_access agents and performing one-hot encoding on the user \n",
    "user_access_agents = event_data.select(['userId', 'userAgent']).distinct()\n",
    "user_access_agents = user_access_agents.fillna('Unknown')\n",
    "# building string indexer\n",
    "string_indexing_agent = StringIndexer(inputCol=\"userAgent\", outputCol=\"userAgentIndex\")\n",
    "generated_model = string_indexing_agent.fit(user_access_agents)\n",
    "user_access_agents = generated_model.transform(user_access_agents)\n",
    "# one hot encode userAgent column\n",
    "one_hot_encoder = OneHotEncoder(inputCol=\"userAgentIndex\", outputCol=\"userAgentVec\")\n",
    "user_access_agents = one_hot_encoder.transform(user_access_agents).select(['userId', 'userAgentVec'])\n",
    "# events pivot join\n",
    "event_pivot_element = event_pivot_element.join(user_access_agents, on ='userId', how ='left')\n",
    "event_pivot_element = event_pivot_element.fillna(0)"
   ]
  },
  {
   "cell_type": "markdown",
   "metadata": {},
   "source": [
    "# Modeling\n",
    "Split the full dataset into train, test, and validation sets. Test out several of the machine learning methods you learned. Evaluate the accuracy of the various models, tuning parameters as necessary. Determine your winning model based on test accuracy and report results on the validation set. Since the churned users are a fairly small subset, I suggest using F1 score as the metric to optimize."
   ]
  },
  {
   "cell_type": "code",
   "execution_count": 7,
   "metadata": {},
   "outputs": [
    {
     "name": "stdout",
     "output_type": "stream",
     "text": [
      "The F1 score for the random forest model: 0.7592592592592593\n"
     ]
    },
    {
     "data": {
      "text/html": [
       "<div>\n",
       "<style scoped>\n",
       "    .dataframe tbody tr th:only-of-type {\n",
       "        vertical-align: middle;\n",
       "    }\n",
       "\n",
       "    .dataframe tbody tr th {\n",
       "        vertical-align: top;\n",
       "    }\n",
       "\n",
       "    .dataframe thead th {\n",
       "        text-align: right;\n",
       "    }\n",
       "</style>\n",
       "<table border=\"1\" class=\"dataframe\">\n",
       "  <thead>\n",
       "    <tr style=\"text-align: right;\">\n",
       "      <th></th>\n",
       "      <th>label</th>\n",
       "      <th>0.0</th>\n",
       "      <th>1.0</th>\n",
       "    </tr>\n",
       "  </thead>\n",
       "  <tbody>\n",
       "    <tr>\n",
       "      <th>0</th>\n",
       "      <td>0</td>\n",
       "      <td>28</td>\n",
       "      <td>1</td>\n",
       "    </tr>\n",
       "    <tr>\n",
       "      <th>1</th>\n",
       "      <td>1</td>\n",
       "      <td>6</td>\n",
       "      <td>1</td>\n",
       "    </tr>\n",
       "  </tbody>\n",
       "</table>\n",
       "</div>"
      ],
      "text/plain": [
       "   label  0.0  1.0\n",
       "0      0   28    1\n",
       "1      1    6    1"
      ]
     },
     "execution_count": 7,
     "metadata": {},
     "output_type": "execute_result"
    }
   ],
   "source": [
    "# Spliting data into test and train set\n",
    "event_pivot_element = event_pivot_element.withColumnRenamed('Churn', 'label')\n",
    "training_split, test_split = event_pivot_element.randomSplit([0.8, 0.2])\n",
    "# Creating vector from featured data\n",
    "feature_identifiers = event_pivot_element.drop('label', 'userId').schema.names\n",
    "assembler_vector = VectorAssembler(inputCols = feature_identifiers, outputCol =\"Features\")\n",
    "# Scaling each column\n",
    "scaling_factor = MinMaxScaler(inputCol=\"Features\", outputCol=\"ScaledFeatures\")\n",
    "# building classifiers\n",
    "log_reg = LogisticRegression(featuresCol=\"ScaledFeatures\", labelCol=\"label\",\n",
    "                             maxIter=10, regParam=0.01)\n",
    "rf_classifier = RandomForestClassifier(featuresCol=\"ScaledFeatures\", labelCol=\"label\",\n",
    "                                       numTrees = 50, featureSubsetStrategy='sqrt')\n",
    "gbt_classifier = GBTClassifier(featuresCol=\"ScaledFeatures\", labelCol=\"label\")\n",
    "# Consturction of pipelines\n",
    "pipeline_log_reg = Pipeline(stages=[assembler_vector, scaling_factor, log_reg])\n",
    "pipeline_rf_classifier = Pipeline(stages=[assembler_vector, scaling_factor, rf_classifier])\n",
    "pipeline_gbt_classifier = Pipeline(stages=[assembler_vector, scaling_factor, gbt_classifier])\n",
    "\n",
    "log_reg_model = pipeline_log_reg.fit(training_split)\n",
    "rf_classifier_model = pipeline_rf_classifier.fit(training_split)\n",
    "gbt_classifier_model = pipeline_gbt_classifier.fit(training_split)\n",
    "\n",
    "def evaluate_model(input_model, eval_metric, input_data):\n",
    "    \n",
    "    # generating predictions\n",
    "    evaluator_obj = MulticlassClassificationEvaluator(metricName = eval_metric)\n",
    "    prediction_op = input_model.transform(input_data)\n",
    "    \n",
    "    # calcualting score\n",
    "    evaluation_output = evaluator_obj.evaluate(prediction_op)\n",
    "    generated_conf_matrix = (prediction_op.groupby(\"label\")\n",
    "                                   .pivot(\"prediction\")\n",
    "                                   .count()\n",
    "                                   .toPandas())\n",
    "    return [evaluation_output, generated_conf_matrix]\n",
    "\n",
    "f1_log_reg, conf_mtx_lr = evaluate_model(log_reg_model, 'f1', test_split)\n",
    "f1_rf_classifier, conf_mtx_rf = evaluate_model(rf_classifier_model, 'f1', test_split)\n",
    "f1_gbt_classifier, conf_mtx_gbt = evaluate_model(gbt_classifier_model, 'f1', test_split)\n",
    "print('The F1 score for the random forest model:', f1_rf_classifier)\n",
    "conf_mtx_rf"
   ]
  },
  {
   "cell_type": "markdown",
   "metadata": {},
   "source": [
    "# Final Steps\n",
    "Clean up your code, adding comments and renaming variables to make the code easier to read and maintain. Refer to the Spark Project Overview page and Data Scientist Capstone Project Rubric to make sure you are including all components of the capstone project and meet all expectations. Remember, this includes thorough documentation in a README file in a Github repository, as well as a web app or blog post."
   ]
  },
  {
   "cell_type": "code",
   "execution_count": null,
   "metadata": {},
   "outputs": [],
   "source": []
  }
 ],
 "metadata": {
  "kernelspec": {
   "display_name": "Python 3",
   "language": "python",
   "name": "python3"
  },
  "language_info": {
   "codemirror_mode": {
    "name": "ipython",
    "version": 3
   },
   "file_extension": ".py",
   "mimetype": "text/x-python",
   "name": "python",
   "nbconvert_exporter": "python",
   "pygments_lexer": "ipython3",
   "version": "3.6.3"
  }
 },
 "nbformat": 4,
 "nbformat_minor": 2
}
